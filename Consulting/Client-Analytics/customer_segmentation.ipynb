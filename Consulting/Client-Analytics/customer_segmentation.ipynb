{
 "cells": [
  {
   "cell_type": "markdown",
   "id": "7bc0c741",
   "metadata": {},
   "source": [
    "# Customer Analytics Dashboard\n",
    "\n",
    "This notebook provides comprehensive customer analytics including:\n",
    "- Customer segmentation using K-means clustering\n",
    "- RFM analysis (Recency, Frequency, Monetary)\n",
    "- Customer lifetime value prediction\n",
    "- Churn analysis and prevention strategies"
   ]
  },
  {
   "cell_type": "code",
   "execution_count": null,
   "id": "64c47850",
   "metadata": {},
   "outputs": [],
   "source": [
    "import pandas as pd\n",
    "import numpy as np\n",
    "import matplotlib.pyplot as plt\n",
    "import seaborn as sns\n",
    "from sklearn.cluster import KMeans\n",
    "from sklearn.preprocessing import StandardScaler\n",
    "from datetime import datetime, timedelta\n",
    "\n",
    "# Set style for better plots\n",
    "plt.style.use('seaborn-v0_8')\n",
    "sns.set_palette(\"husl\")\n",
    "\n",
    "print(\"Customer Analytics Toolkit Loaded\")\n",
    "print(\"Ready to analyze customer behavior and segment customers\")"
   ]
  },
  {
   "cell_type": "markdown",
   "id": "b44825c0",
   "metadata": {},
   "source": [
    "## RFM Analysis\n",
    "\n",
    "Analyze customers based on Recency, Frequency, and Monetary value."
   ]
  },
  {
   "cell_type": "code",
   "execution_count": null,
   "id": "e1997589",
   "metadata": {},
   "outputs": [],
   "source": [
    "def calculate_rfm_scores(df, customer_id='customer_id', order_date='order_date', revenue='revenue'):\n",
    "    \"\"\"\n",
    "    Calculate RFM scores for customer segmentation\n",
    "    \n",
    "    Args:\n",
    "        df: DataFrame with customer transaction data\n",
    "        customer_id: Column name for customer identifier\n",
    "        order_date: Column name for transaction date\n",
    "        revenue: Column name for transaction value\n",
    "    \n",
    "    Returns:\n",
    "        DataFrame with RFM scores for each customer\n",
    "    \"\"\"\n",
    "    \n",
    "    # Calculate the current date for recency calculation\n",
    "    current_date = df[order_date].max() + timedelta(days=1)\n",
    "    \n",
    "    # Calculate RFM metrics\n",
    "    rfm = df.groupby(customer_id).agg({\n",
    "        order_date: lambda x: (current_date - x.max()).days,  # Recency\n",
    "        revenue: ['count', 'sum']  # Frequency and Monetary\n",
    "    }).round(2)\n",
    "    \n",
    "    # Flatten column names\n",
    "    rfm.columns = ['Recency', 'Frequency', 'Monetary']\n",
    "    \n",
    "    # Calculate RFM scores (1-5 scale)\n",
    "    rfm['R_Score'] = pd.qcut(rfm['Recency'].rank(method='first'), 5, labels=[5,4,3,2,1])\n",
    "    rfm['F_Score'] = pd.qcut(rfm['Frequency'].rank(method='first'), 5, labels=[1,2,3,4,5])\n",
    "    rfm['M_Score'] = pd.qcut(rfm['Monetary'].rank(method='first'), 5, labels=[1,2,3,4,5])\n",
    "    \n",
    "    # Create RFM segment\n",
    "    rfm['RFM_Score'] = rfm['R_Score'].astype(str) + rfm['F_Score'].astype(str) + rfm['M_Score'].astype(str)\n",
    "    \n",
    "    return rfm\n",
    "\n",
    "print(\"RFM Analysis function defined\")\n",
    "print(\"Use calculate_rfm_scores(df) to segment customers\")"
   ]
  }
 ],
 "metadata": {
  "language_info": {
   "name": "python"
  }
 },
 "nbformat": 4,
 "nbformat_minor": 5
}
