{
 "cells": [
  {
   "cell_type": "markdown",
   "id": "efd1c454",
   "metadata": {},
   "source": [
    "# Options Trading Strategy\n",
    "\n",
    "This notebook explores various options trading strategies including:\n",
    "- Iron condors\n",
    "- Covered calls\n",
    "- Put spreads\n",
    "- Backtesting framework"
   ]
  },
  {
   "cell_type": "code",
   "execution_count": null,
   "id": "13efa523",
   "metadata": {},
   "outputs": [],
   "source": [
    "import numpy as np\n",
    "import pandas as pd\n",
    "import matplotlib.pyplot as plt\n",
    "from scipy.stats import norm\n",
    "import yfinance as yf\n",
    "\n",
    "def black_scholes_call(S, K, T, r, sigma):\n",
    "    \"\"\"\n",
    "    Calculate Black-Scholes call option price\n",
    "    \n",
    "    S: Current stock price\n",
    "    K: Strike price\n",
    "    T: Time to expiration (in years)\n",
    "    r: Risk-free rate\n",
    "    sigma: Volatility\n",
    "    \"\"\"\n",
    "    d1 = (np.log(S/K) + (r + sigma**2/2)*T) / (sigma*np.sqrt(T))\n",
    "    d2 = d1 - sigma*np.sqrt(T)\n",
    "    \n",
    "    call_price = S*norm.cdf(d1) - K*np.exp(-r*T)*norm.cdf(d2)\n",
    "    return call_price\n",
    "\n",
    "# Example calculation\n",
    "S = 150  # Current stock price\n",
    "K = 155  # Strike price\n",
    "T = 30/365  # 30 days to expiration\n",
    "r = 0.05  # 5% risk-free rate\n",
    "sigma = 0.25  # 25% volatility\n",
    "\n",
    "call_price = black_scholes_call(S, K, T, r, sigma)\n",
    "print(f\"Call option price: ${call_price:.2f}\")"
   ]
  }
 ],
 "metadata": {
  "language_info": {
   "name": "python"
  }
 },
 "nbformat": 4,
 "nbformat_minor": 5
}
