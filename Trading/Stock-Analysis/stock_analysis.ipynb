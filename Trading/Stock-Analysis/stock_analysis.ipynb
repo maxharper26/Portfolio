{
 "cells": [
  {
   "cell_type": "markdown",
   "id": "23b36990",
   "metadata": {},
   "source": [
    "# Stock Market Analysis\n",
    "\n",
    "This notebook demonstrates stock market analysis techniques including:\n",
    "- Price trend analysis\n",
    "- Technical indicators\n",
    "- Risk assessment\n",
    "- Portfolio optimization"
   ]
  },
  {
   "cell_type": "code",
   "execution_count": null,
   "id": "51ae6892",
   "metadata": {},
   "outputs": [],
   "source": [
    "import pandas as pd\n",
    "import numpy as np\n",
    "import matplotlib.pyplot as plt\n",
    "import yfinance as yf\n",
    "\n",
    "# Download stock data\n",
    "ticker = 'AAPL'\n",
    "data = yf.download(ticker, start='2020-01-01', end='2024-01-01')\n",
    "print(f\"Downloaded {len(data)} days of data for {ticker}\")"
   ]
  },
  {
   "cell_type": "markdown",
   "id": "dfefcca1",
   "metadata": {},
   "source": [
    "## Technical Analysis\n",
    "\n",
    "Calculate moving averages and other technical indicators."
   ]
  },
  {
   "cell_type": "code",
   "execution_count": null,
   "id": "2d97d0ae",
   "metadata": {},
   "outputs": [],
   "source": [
    "# Calculate moving averages\n",
    "data['MA_20'] = data['Close'].rolling(window=20).mean()\n",
    "data['MA_50'] = data['Close'].rolling(window=50).mean()\n",
    "\n",
    "# Plot the results\n",
    "plt.figure(figsize=(12, 6))\n",
    "plt.plot(data.index, data['Close'], label='Close Price', linewidth=2)\n",
    "plt.plot(data.index, data['MA_20'], label='20-day MA', alpha=0.7)\n",
    "plt.plot(data.index, data['MA_50'], label='50-day MA', alpha=0.7)\n",
    "plt.title(f'{ticker} Stock Price with Moving Averages')\n",
    "plt.xlabel('Date')\n",
    "plt.ylabel('Price ($)')\n",
    "plt.legend()\n",
    "plt.grid(True, alpha=0.3)\n",
    "plt.show()"
   ]
  }
 ],
 "metadata": {
  "language_info": {
   "name": "python"
  }
 },
 "nbformat": 4,
 "nbformat_minor": 5
}
